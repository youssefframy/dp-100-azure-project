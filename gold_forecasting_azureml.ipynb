{
 "cells": [
  {
   "cell_type": "markdown",
   "metadata": {},
   "source": [
    "# Gold Price Time Series Forecasting in Azure Machine Learning Studio\n",
    "\n",
    "This notebook implements a full MLOps workflow for gold price forecasting using Azure ML managed and serverless services."
   ]
  },
  {
   "cell_type": "code",
   "execution_count": null,
   "metadata": {},
   "outputs": [],
   "source": [
    "# 1. Setup & Initialization\n",
    "!pip install azure-ai-ml azure-identity mlflow scikit-learn pandas seaborn matplotlib\n",
    "from azure.ai.ml import MLClient, automl\n",
    "from azure.ai.ml.entities import Data, Model, ResourceConfiguration, CodeConfiguration\n",
    "from azure.identity import DefaultAzureCredential\n",
    "import pandas as pd\n",
    "import matplotlib.pyplot as plt\n",
    "import seaborn as sns"
   ]
  },
  {
   "cell_type": "code",
   "execution_count": null,
   "metadata": {},
   "outputs": [],
   "source": [
    "# 2. Connect to Azure ML Workspace\n",
    "credential = DefaultAzureCredential()\n",
    "ml_client = MLClient.from_config(credential=credential)\n",
    "print(f\"Connected to workspace: {ml_client.workspace_name}\")"
   ]
  },
  {
   "cell_type": "code",
   "execution_count": null,
   "metadata": {},
   "outputs": [],
   "source": [
    "# 3. Data Preparation & Exploration\n",
    "df = pd.read_csv(\"gold_price_50_years_1975_2025.csv\")\n",
    "df['date'] = pd.to_datetime(df['date'])\n",
    "df.sort_values('date', inplace=True)\n",
    "df.reset_index(drop=True, inplace=True)\n",
    "print(df.info())\n",
    "print(df.head())\n",
    "print(df.isnull().sum())\n",
    "print(df.describe())\n",
    "plt.figure(figsize=(12,5))\n",
    "sns.lineplot(data=df, x='date', y='close')\n",
    "plt.title('Gold Price Over Time (1975–2025)')\n",
    "plt.xlabel('Date')\n",
    "plt.ylabel('Close Price (USD)')\n",
    "plt.show()"
   ]
  },
  {
   "cell_type": "code",
   "execution_count": null,
   "metadata": {},
   "outputs": [],
   "source": [
    "# 4. Register Data Asset in Azure ML\n",
    "from azure.ai.ml.constants import AssetTypes\n",
    "gold_data = Data(\n",
    "    name=\"gold-prices-data\",\n",
    "    version=\"1\",\n",
    "    description=\"Historical gold prices 1975–2025\",\n",
    "    path=\"gold_price_50_years_1975_2025.csv\",\n",
    "    type=AssetTypes.URI_FILE,\n",
    "    tags={\"source\": \"uploaded-csv\", \"target\": \"close\"}\n",
    ")\n",
    "ml_client.data.create_or_update(gold_data)\n",
    "print(\"Gold prices dataset successfully registered!\")"
   ]
  },
  {
   "cell_type": "code",
   "execution_count": null,
   "metadata": {},
   "outputs": [],
   "source": [
    "# 5. Train Model with AutoML (Serverless)\n",
    "from azure.ai.ml import Input\n",
    "forecast_job = automl.forecasting(\n",
    "    experiment_name=\"gold-price-forecasting\",\n",
    "    training_data=Input(type=\"uri_file\", path=\"azureml:gold-prices-data:1\"),\n",
    "    target_column_name=\"close\",\n",
    "    primary_metric=\"normalized_root_mean_squared_error\",\n",
    "    forecasting_settings={\n",
    "        \"time_column_name\": \"date\",\n",
    "        \"forecast_horizon\": 30,\n",
    "        \"frequency\": \"D\",\n",
    "        \"target_lags\": [1,2,3,5,7,14],\n",
    "        \"target_rolling_window_size\": 7\n",
    "    },\n",
    "    n_cross_validations=\"auto\",\n",
    "    validation_data_size=0.2,\n",
    "    test_data_size=0.1,\n",
    "    enable_early_stopping=True,\n",
    "    timeout_minutes=120,\n",
    "    max_trials=30\n",
    ")\n",
    "forecast_job.resources = ResourceConfiguration(instance_type=\"Standard_DS3_v2\", instance_count=1)\n",
    "submitted_job = ml_client.jobs.create_or_update(forecast_job)\n",
    "print(f\"AutoML job submitted: {submitted_job.name}\")\n",
    "print(submitted_job.studio_url)"
   ]
  },
  {
   "cell_type": "code",
   "execution_count": null,
   "metadata": {},
   "outputs": [],
   "source": [
    "# 6. Monitor Job & Retrieve Best Model\n",
    "completed = ml_client.jobs.get(submitted_job.name)\n",
    "print(f\"Job Status: {completed.status}\")\n",
    "if completed.status == \"Completed\":\n",
    "    best_model = list(ml_client.models.list(name=completed.name))[0]\n",
    "    print(f\"Model: {best_model.name}, Version: {best_model.version}\")"
   ]
  },
  {
   "cell_type": "code",
   "execution_count": null,
   "metadata": {},
   "outputs": [],
   "source": [
    "# 7. Register the Model (if needed)\n",
    "from azure.ai.ml.entities import Model\n",
    "from azure.ai.ml.constants import AssetTypes\n",
    "model = Model(\n",
    "    name=\"gold-forecasting-model\",\n",
    "    version=\"1\",\n",
    "    description=\"Best AutoML model for gold price forecasting\",\n",
    "    path=f\"azureml://jobs/{submitted_job.name}/outputs/artifacts/outputs/mlflow-model\",\n",
    "    type=AssetTypes.MLFLOW_MODEL,\n",
    "    tags={\"model_type\": \"forecasting\", \"target\": \"close\"}\n",
    ")\n",
    "ml_client.models.create_or_update(model)"
   ]
  },
  {
   "cell_type": "code",
   "execution_count": null,
   "metadata": {},
   "outputs": [],
   "source": [
    "# 8. Batch Inference Pipeline\n",
    "%%writefile batch_predict.py\n",
    "import os, pandas as pd, mlflow, numpy as np\n",
    "def init():\n",
    "    global model\n",
    "    model_path = os.environ.get(\"AZUREML_MODEL_DIR\")\n",
    "    model = mlflow.sklearn.load_model(model_path)\n",
    "def run(mini_batch):\n",
    "    results = []\n",
    "    for path in mini_batch:\n",
    "        data = pd.read_csv(path)\n",
    "        preds = model.predict(data)\n",
    "        out = pd.DataFrame({\"date\": data[\"date\"], \"predicted_price\": preds})\n",
    "        results.append(out)\n",
    "    return pd.concat(results)"
   ]
  },
  {
   "cell_type": "code",
   "execution_count": null,
   "metadata": {},
   "outputs": [],
   "source": [
    "# 8b. Define and Run Pipeline\n",
    "from azure.ai.ml.dsl import pipeline\n",
    "from azure.ai.ml import Input\n",
    "@pipeline(default_compute=\"serverless\")\n",
    "def batch_pipeline(input_data, model_path):\n",
    "    from azure.ai.ml import command\n",
    "    return command(\n",
    "        name=\"gold_price_batch_predict\",\n",
    "        code=\"./\",\n",
    "        command=\"python batch_predict.py\",\n",
    "        inputs={\"input_data\": input_data, \"model_path\": model_path}\n",
    "    )\n",
    "pipeline_job = batch_pipeline(\n",
    "    input_data=Input(path=\"azureml:gold-prices-data:1\"),\n",
    "    model_path=Input(path=f\"azureml:gold-forecasting-model:1\")\n",
    ")\n",
    "pipeline_run = ml_client.jobs.create_or_update(pipeline_job)\n",
    "print(f\"Pipeline submitted: {pipeline_run.name}\")"
   ]
  },
  {
   "cell_type": "code",
   "execution_count": null,
   "metadata": {},
   "outputs": [],
   "source": [
    "# 9. Deploy Model to Managed Online Endpoint\n",
    "%%writefile score.py\n",
    "import json, os, pandas as pd, mlflow\n",
    "def init():\n",
    "    global model\n",
    "    model_path = os.environ.get(\"AZUREML_MODEL_DIR\")\n",
    "    model = mlflow.sklearn.load_model(model_path)\n",
    "def run(raw_data):\n",
    "    data = pd.DataFrame(json.loads(raw_data)[\"data\"])\n",
    "    preds = model.predict(data)\n",
    "    return json.dumps({\"predictions\": preds.tolist()})"
   ]
  },
  {
   "cell_type": "code",
   "execution_count": null,
   "metadata": {},
   "outputs": [],
   "source": [
    "# 9b. Deploy Endpoint\n",
    "from azure.ai.ml.entities import ManagedOnlineEndpoint, ManagedOnlineDeployment, CodeConfiguration, OnlineRequestSettings\n",
    "endpoint = ManagedOnlineEndpoint(\n",
    "    name=\"gold-forecasting-endpoint\",\n",
    "    auth_mode=\"key\",\n",
    "    description=\"Real-time gold price forecast\"\n",
    ")\n",
    "ml_client.begin_create_or_update(endpoint).result()\n",
    "deployment = ManagedOnlineDeployment(\n",
    "    name=\"gold-forecasting-deploy\",\n",
    "    endpoint_name=\"gold-forecasting-endpoint\",\n",
    "    model=\"azureml:gold-forecasting-model:1\",\n",
    "    code_configuration=CodeConfiguration(code=\"./\", scoring_script=\"score.py\"),\n",
    "    environment=\"AzureML-sklearn-1.0-ubuntu20.04-py38-cpu:1\",\n",
    "    instance_type=\"Standard_DS2_v2\",\n",
    "    instance_count=1,\n",
    "    request_settings=OnlineRequestSettings(request_timeout_ms=60000)\n",
    ")\n",
    "ml_client.begin_create_or_update(deployment).result()\n",
    "endpoint.traffic = {\"gold-forecasting-deploy\": 100}\n",
    "ml_client.begin_create_or_update(endpoint).result()"
   ]
  },
  {
   "cell_type": "code",
   "execution_count": null,
   "metadata": {},
   "outputs": [],
   "source": [
    "# 10. Test the Live Endpoint\n",
    "import requests, json\n",
    "ep = ml_client.online_endpoints.get(\"gold-forecasting-endpoint\")\n",
    "keys = ml_client.online_endpoints.get_keys(\"gold-forecasting-endpoint\")\n",
    "sample = {\"data\": [{\"open\": 3050.9, \"high\": 3061.2, \"low\":3050.0, \"close\":3056.1}]}\n",
    "headers = {\n",
    "    \"Authorization\": f\"Bearer {keys.primary_key}\",\n",
    "    \"Content-Type\": \"application/json\"\n",
    "}\n",
    "response = requests.post(ep.scoring_uri, data=json.dumps(sample), headers=headers)\n",
    "print(response.json())"
   ]
  },
  {
   "cell_type": "code",
   "execution_count": null,
   "metadata": {},
   "outputs": [],
   "source": [
    "# 11. Responsible AI Dashboard\n",
    "from azure.ai.ml import automl\n",
    "from azure.ai.ml import Input\n",
    "rai_job = automl.rai(\n",
    "    experiment_name=\"rai-gold-forecasting\",\n",
    "    model_input=\"azureml:gold-forecasting-model:1\",\n",
    "    train_data=Input(path=\"azureml:gold-prices-data:1\"),\n",
    "    target_column_name=\"close\",\n",
    "    compute=\"serverless\"\n",
    ")\n",
    "ml_client.jobs.create_or_update(rai_job)"
   ]
  }
 ],
 "metadata": {
  "kernelspec": {
   "display_name": "Python 3",
   "language": "python",
   "name": "python3"
  },
  "language_info": {
   "name": "python",
   "version": "3.8"
  }
 },
 "nbformat": 4,
 "nbformat_minor": 2
}
